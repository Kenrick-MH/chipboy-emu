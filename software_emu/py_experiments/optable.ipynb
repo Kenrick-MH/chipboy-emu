{
 "cells": [
  {
   "cell_type": "code",
   "execution_count": null,
   "id": "3a9bf13f",
   "metadata": {},
   "outputs": [],
   "source": [
    "InstructionStr = str\n",
    "BitFilter = str\n",
    "\n",
    "OPTABLE_FILTERS : dict[BitFilter, InstructionStr] = {\n",
    "    # Block 0\n",
    "    '0000_0000': 'instr_nop',\n",
    "    '00xx_0001': 'instr_ld_r16_imm16',\n",
    "    '00xx_0010': 'instr_ld_r16mem_a',\n",
    "    '00xx_1010': 'instr_ld_a_r16mem',\n",
    "    '0000_1000': 'instr_imm16mem_sp',\n",
    "    \n",
    "    '00xx_0011': 'instr_inc_r16',\n",
    "    '00xx_1011': 'instr_dec_r16',\n",
    "    '00xx_1001': 'instr_add_hl_r16',\n",
    "    '00xx_x100': 'instr_inc_r8',\n",
    "    '00xx_x101': 'instr_dec_r8',  # decr\n",
    "    '00xx_x110': 'instr_ld_r8_imm8', # ld r8 imm8\n",
    "    \n",
    "    '0000_0111': 'instr_rlca', \n",
    "    '0000_1111': 'instr_rrca', \n",
    "    '0001_0111': 'instr_rla', \n",
    "    '0001_1111': 'instr_rra',\n",
    "    '0010_0111': 'instr_daa',\n",
    "    '0010_1111': 'instr_cpl',\n",
    "    '0011_0111': 'instr_scf',\n",
    "    '0011_1111': 'instr_ccf',\n",
    "    \n",
    "    '0001_1000': 'instr_jr_imm8',\n",
    "    '001x_x000': 'instr_jr_cond_imm8',\n",
    "    '0001_0000': 'instr_stop',\n",
    "\n",
    "    # Block 1\n",
    "    '01xx_xyyy': 'instr_ld_r8_r8',\n",
    "    '0111_0110': 'instr_halt',\n",
    "    \n",
    "    # Block 2 (8 bit ALU operations)\n",
    "    '10xx_xyyy': 'instr_alu_op_r8',\n",
    "    \n",
    "    # Block 3\n",
    "    '11xx_x110': 'instr_alu_op_imm8',    # immediate 8-bit alu\n",
    "    '110x_x000': 'instr_ret_cond',\n",
    "    '1100_1001': 'instr_ret',\n",
    "    '1101_1001': 'instr_reti',\n",
    "    '110x_x010': 'instr_jp_cond',\n",
    "    '1100_0011': 'instr_jp_imm16',\n",
    "    '1110_1001': 'instr_jp_hl',\n",
    "    '110x_x100': 'instr_call_cond_imm16',\n",
    "    '1100_1101': 'instr_call_imm16',\n",
    "    '11xx_x111': 'instr_rst_tgt3',\n",
    "    \n",
    "    '11xx_0001': 'instr_pop_r16stk',\n",
    "    '11xx_0101': 'instr_push_r16stk',\n",
    "    \n",
    "    '1100_1011': 'instr_cb_prefix',\n",
    "    \n",
    "    '1110_0010': 'instr_ldh_cmem_a',\n",
    "    '1110_0000': 'instr_ldh_imm8mem_a',\n",
    "    '1110_1010': 'instr_ld_imm16mem_a',\n",
    "    '1111_0010': 'instr_ldh_a_cmem',\n",
    "    '1111_1010': 'instr_ld_a_imm16mem',\n",
    "    \n",
    "    '1110_1000': 'instr_add_sp_imm8',\n",
    "    '1111_1000': 'instr_ld_hl_sp_imm8',\n",
    "    '1111_1001': 'instr_ld_sp_hl',\n",
    "    \n",
    "    '1111_0011': 'instr_di',\n",
    "    '1111_1011': 'instr_ei',\n",
    "}"
   ]
  },
  {
   "cell_type": "code",
   "execution_count": 19,
   "id": "1a063e62",
   "metadata": {},
   "outputs": [
    {
     "data": {
      "text/plain": [
       "{'1111'}"
      ]
     },
     "execution_count": 19,
     "metadata": {},
     "output_type": "execute_result"
    }
   ],
   "source": [
    "from collections import Counter\n",
    "\n",
    "def generate_expansion(og_str: str, index: int, generated_str, str_set: set):\n",
    "    if (index == len(og_str)):\n",
    "        str_set.add(generated_str)\n",
    "        return\n",
    "    \n",
    "    s_i = og_str[index]\n",
    "    if s_i != '0' and s_i != '1':\n",
    "        generate_expansion(og_str, index+1, generated_str + '0', str_set)\n",
    "        generate_expansion(og_str, index+1, generated_str + '1', str_set)\n",
    "    else:\n",
    "        generate_expansion(og_str, index+1, generated_str + s_i, str_set)\n",
    "\n",
    "def expand_bitfilter(bitfilter: BitFilter):\n",
    "    bitfilter = bitfilter.replace('_', '')\n",
    "    replacement_sets = set()\n",
    "    generate_expansion(bitfilter, 0, '', replacement_sets)\n",
    "\n",
    "    return replacement_sets\n",
    "\n",
    "\n",
    "expand_bitfilter('1111')            \n",
    "    "
   ]
  },
  {
   "cell_type": "code",
   "execution_count": 21,
   "id": "b918bc7a",
   "metadata": {},
   "outputs": [],
   "source": [
    "def create_optable():\n",
    "    optable = {}\n",
    "    \n",
    "    for bitfilter, func_name in OPTABLE_FILTERS.items():\n",
    "        expansion_set = expand_bitfilter(bitfilter)\n",
    "        for op_byte in expansion_set:\n",
    "            optable[int(op_byte, 8)] = func_name\n",
    "            \n",
    "    return optable"
   ]
  },
  {
   "cell_type": "code",
   "execution_count": 24,
   "id": "96101090",
   "metadata": {},
   "outputs": [
    {
     "name": "stdout",
     "output_type": "stream",
     "text": [
      "{0: 'instr_nop', 1: 'instr_ld_r16_imm16', 8: 'instr_ld_r16mem_a', 9: 'instr_inc_r16', 64: 'instr_inc_r8', 65: 'instr_dec_r8', 72: 'instr_ld_r8_imm8', 73: 'instr_rlca', 512: 'instr_imm16mem_sp', 513: 'instr_add_hl_r16', 520: 'instr_ld_a_r16mem', 521: 'instr_dec_r16', 576: 'instr_inc_r8', 577: 'instr_dec_r8', 584: 'instr_ld_r8_imm8', 585: 'instr_rrca', 4096: 'instr_stop', 4097: 'instr_ld_r16_imm16', 4104: 'instr_ld_r16mem_a', 4105: 'instr_inc_r16', 4160: 'instr_inc_r8', 4161: 'instr_dec_r8', 4168: 'instr_ld_r8_imm8', 4169: 'instr_rla', 4608: 'instr_jr_imm8', 4609: 'instr_add_hl_r16', 4616: 'instr_ld_a_r16mem', 4617: 'instr_dec_r16', 4672: 'instr_inc_r8', 4673: 'instr_dec_r8', 4680: 'instr_ld_r8_imm8', 4681: 'instr_rra', 32768: 'instr_jr_cond_imm8', 32769: 'instr_ld_r16_imm16', 32776: 'instr_ld_r16mem_a', 32777: 'instr_inc_r16', 32832: 'instr_inc_r8', 32833: 'instr_dec_r8', 32840: 'instr_ld_r8_imm8', 32841: 'instr_daa', 33280: 'instr_jr_cond_imm8', 33281: 'instr_add_hl_r16', 33288: 'instr_ld_a_r16mem', 33289: 'instr_dec_r16', 33344: 'instr_inc_r8', 33345: 'instr_dec_r8', 33352: 'instr_ld_r8_imm8', 33353: 'instr_cpl', 36864: 'instr_jr_cond_imm8', 36865: 'instr_ld_r16_imm16', 36872: 'instr_ld_r16mem_a', 36873: 'instr_inc_r16', 36928: 'instr_inc_r8', 36929: 'instr_dec_r8', 36936: 'instr_ld_r8_imm8', 36937: 'instr_scf', 37376: 'instr_jr_cond_imm8', 37377: 'instr_add_hl_r16', 37384: 'instr_ld_a_r16mem', 37385: 'instr_dec_r16', 37440: 'instr_inc_r8', 37441: 'instr_dec_r8', 37448: 'instr_ld_r8_imm8', 37449: 'instr_ccf', 262144: 'instr_ld_r8_r8', 262145: 'instr_ld_r8_r8', 262152: 'instr_ld_r8_r8', 262153: 'instr_ld_r8_r8', 262208: 'instr_ld_r8_r8', 262209: 'instr_ld_r8_r8', 262216: 'instr_ld_r8_r8', 262217: 'instr_ld_r8_r8', 262656: 'instr_ld_r8_r8', 262657: 'instr_ld_r8_r8', 262664: 'instr_ld_r8_r8', 262665: 'instr_ld_r8_r8', 262720: 'instr_ld_r8_r8', 262721: 'instr_ld_r8_r8', 262728: 'instr_ld_r8_r8', 262729: 'instr_ld_r8_r8', 266240: 'instr_ld_r8_r8', 266241: 'instr_ld_r8_r8', 266248: 'instr_ld_r8_r8', 266249: 'instr_ld_r8_r8', 266304: 'instr_ld_r8_r8', 266305: 'instr_ld_r8_r8', 266312: 'instr_ld_r8_r8', 266313: 'instr_ld_r8_r8', 266752: 'instr_ld_r8_r8', 266753: 'instr_ld_r8_r8', 266760: 'instr_ld_r8_r8', 266761: 'instr_ld_r8_r8', 266816: 'instr_ld_r8_r8', 266817: 'instr_ld_r8_r8', 266824: 'instr_ld_r8_r8', 266825: 'instr_ld_r8_r8', 294912: 'instr_ld_r8_r8', 294913: 'instr_ld_r8_r8', 294920: 'instr_ld_r8_r8', 294921: 'instr_ld_r8_r8', 294976: 'instr_ld_r8_r8', 294977: 'instr_ld_r8_r8', 294984: 'instr_ld_r8_r8', 294985: 'instr_ld_r8_r8', 295424: 'instr_ld_r8_r8', 295425: 'instr_ld_r8_r8', 295432: 'instr_ld_r8_r8', 295433: 'instr_ld_r8_r8', 295488: 'instr_ld_r8_r8', 295489: 'instr_ld_r8_r8', 295496: 'instr_ld_r8_r8', 295497: 'instr_ld_r8_r8', 299008: 'instr_ld_r8_r8', 299009: 'instr_ld_r8_r8', 299016: 'instr_ld_r8_r8', 299017: 'instr_ld_r8_r8', 299072: 'instr_ld_r8_r8', 299073: 'instr_ld_r8_r8', 299080: 'instr_halt', 299081: 'instr_ld_r8_r8', 299520: 'instr_ld_r8_r8', 299521: 'instr_ld_r8_r8', 299528: 'instr_ld_r8_r8', 299529: 'instr_ld_r8_r8', 299584: 'instr_ld_r8_r8', 299585: 'instr_ld_r8_r8', 299592: 'instr_ld_r8_r8', 299593: 'instr_ld_r8_r8', 2097152: 'instr_alu_op_r8', 2097153: 'instr_alu_op_r8', 2097160: 'instr_alu_op_r8', 2097161: 'instr_alu_op_r8', 2097216: 'instr_alu_op_r8', 2097217: 'instr_alu_op_r8', 2097224: 'instr_alu_op_r8', 2097225: 'instr_alu_op_r8', 2097664: 'instr_alu_op_r8', 2097665: 'instr_alu_op_r8', 2097672: 'instr_alu_op_r8', 2097673: 'instr_alu_op_r8', 2097728: 'instr_alu_op_r8', 2097729: 'instr_alu_op_r8', 2097736: 'instr_alu_op_r8', 2097737: 'instr_alu_op_r8', 2101248: 'instr_alu_op_r8', 2101249: 'instr_alu_op_r8', 2101256: 'instr_alu_op_r8', 2101257: 'instr_alu_op_r8', 2101312: 'instr_alu_op_r8', 2101313: 'instr_alu_op_r8', 2101320: 'instr_alu_op_r8', 2101321: 'instr_alu_op_r8', 2101760: 'instr_alu_op_r8', 2101761: 'instr_alu_op_r8', 2101768: 'instr_alu_op_r8', 2101769: 'instr_alu_op_r8', 2101824: 'instr_alu_op_r8', 2101825: 'instr_alu_op_r8', 2101832: 'instr_alu_op_r8', 2101833: 'instr_alu_op_r8', 2129920: 'instr_alu_op_r8', 2129921: 'instr_alu_op_r8', 2129928: 'instr_alu_op_r8', 2129929: 'instr_alu_op_r8', 2129984: 'instr_alu_op_r8', 2129985: 'instr_alu_op_r8', 2129992: 'instr_alu_op_r8', 2129993: 'instr_alu_op_r8', 2130432: 'instr_alu_op_r8', 2130433: 'instr_alu_op_r8', 2130440: 'instr_alu_op_r8', 2130441: 'instr_alu_op_r8', 2130496: 'instr_alu_op_r8', 2130497: 'instr_alu_op_r8', 2130504: 'instr_alu_op_r8', 2130505: 'instr_alu_op_r8', 2134016: 'instr_alu_op_r8', 2134017: 'instr_alu_op_r8', 2134024: 'instr_alu_op_r8', 2134025: 'instr_alu_op_r8', 2134080: 'instr_alu_op_r8', 2134081: 'instr_alu_op_r8', 2134088: 'instr_alu_op_r8', 2134089: 'instr_alu_op_r8', 2134528: 'instr_alu_op_r8', 2134529: 'instr_alu_op_r8', 2134536: 'instr_alu_op_r8', 2134537: 'instr_alu_op_r8', 2134592: 'instr_alu_op_r8', 2134593: 'instr_alu_op_r8', 2134600: 'instr_alu_op_r8', 2134601: 'instr_alu_op_r8', 2359296: 'instr_ret_cond', 2359297: 'instr_pop_r16stk', 2359304: 'instr_jp_cond', 2359305: 'instr_jp_imm16', 2359360: 'instr_call_cond_imm16', 2359361: 'instr_push_r16stk', 2359368: 'instr_alu_op_imm8', 2359369: 'instr_rst_tgt3', 2359808: 'instr_ret_cond', 2359809: 'instr_ret', 2359816: 'instr_jp_cond', 2359817: 'instr_cb_prefix', 2359872: 'instr_call_cond_imm16', 2359873: 'instr_call_imm16', 2359880: 'instr_alu_op_imm8', 2359881: 'instr_rst_tgt3', 2363392: 'instr_ret_cond', 2363393: 'instr_pop_r16stk', 2363400: 'instr_jp_cond', 2363456: 'instr_call_cond_imm16', 2363457: 'instr_push_r16stk', 2363464: 'instr_alu_op_imm8', 2363465: 'instr_rst_tgt3', 2363904: 'instr_ret_cond', 2363905: 'instr_reti', 2363912: 'instr_jp_cond', 2363968: 'instr_call_cond_imm16', 2363976: 'instr_alu_op_imm8', 2363977: 'instr_rst_tgt3', 2392064: 'instr_ldh_imm8mem_a', 2392065: 'instr_pop_r16stk', 2392072: 'instr_ldh_cmem_a', 2392129: 'instr_push_r16stk', 2392136: 'instr_alu_op_imm8', 2392137: 'instr_rst_tgt3', 2392576: 'instr_add_sp_imm8', 2392577: 'instr_jp_hl', 2392584: 'instr_ld_imm16mem_a', 2392648: 'instr_alu_op_imm8', 2392649: 'instr_rst_tgt3', 2396161: 'instr_pop_r16stk', 2396168: 'instr_ldh_a_cmem', 2396169: 'instr_di', 2396225: 'instr_push_r16stk', 2396232: 'instr_alu_op_imm8', 2396233: 'instr_rst_tgt3', 2396672: 'instr_ld_hl_sp_imm8', 2396673: 'instr_ld_sp_hl', 2396680: 'instr_ld_a_imm16mem', 2396681: 'instr_ei', 2396744: 'instr_alu_op_imm8', 2396745: 'instr_rst_tgt3'}\n",
      "244\n"
     ]
    }
   ],
   "source": [
    "optable = create_optable()\n",
    "sorted_optable = dict(sorted(optable.items()))\n",
    "print(sorted_optable)\n",
    "print(len(sorted_optable))"
   ]
  },
  {
   "cell_type": "code",
   "execution_count": 17,
   "id": "064eb5ce",
   "metadata": {},
   "outputs": [
    {
     "data": {
      "text/plain": [
       "'0b101010'"
      ]
     },
     "execution_count": 17,
     "metadata": {},
     "output_type": "execute_result"
    }
   ],
   "source": [
    "n = 42\n",
    "bin(n)"
   ]
  }
 ],
 "metadata": {
  "kernelspec": {
   "display_name": ".venv",
   "language": "python",
   "name": "python3"
  },
  "language_info": {
   "codemirror_mode": {
    "name": "ipython",
    "version": 3
   },
   "file_extension": ".py",
   "mimetype": "text/x-python",
   "name": "python",
   "nbconvert_exporter": "python",
   "pygments_lexer": "ipython3",
   "version": "3.12.3"
  }
 },
 "nbformat": 4,
 "nbformat_minor": 5
}
